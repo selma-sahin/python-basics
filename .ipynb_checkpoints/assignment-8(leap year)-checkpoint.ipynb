{
 "cells": [
  {
   "cell_type": "code",
   "execution_count": 4,
   "metadata": {},
   "outputs": [
    {
     "name": "stdout",
     "output_type": "stream",
     "text": [
      "Please enter a year to check if it is leap year or not : 2100\n",
      "2100 is not a leap year.\n"
     ]
    }
   ],
   "source": [
    "year= int(input(\"Please enter a year to check if it is leap year or not : \"))\n",
    "\n",
    "if (year % 4 == 0 and year % 100 !=0) or year % 400 == 0:\n",
    "    print(f\"{year} is a leap year.\")\n",
    "else:\n",
    "     print(f\"{year} is not a leap year.\")"
   ]
  },
  {
   "cell_type": "code",
   "execution_count": null,
   "metadata": {},
   "outputs": [],
   "source": []
  },
  {
   "cell_type": "code",
   "execution_count": null,
   "metadata": {},
   "outputs": [],
   "source": []
  }
 ],
 "metadata": {
  "kernelspec": {
   "display_name": "Python 3",
   "language": "python",
   "name": "python3"
  },
  "language_info": {
   "codemirror_mode": {
    "name": "ipython",
    "version": 3
   },
   "file_extension": ".py",
   "mimetype": "text/x-python",
   "name": "python",
   "nbconvert_exporter": "python",
   "pygments_lexer": "ipython3",
   "version": "3.7.6"
  }
 },
 "nbformat": 4,
 "nbformat_minor": 4
}
