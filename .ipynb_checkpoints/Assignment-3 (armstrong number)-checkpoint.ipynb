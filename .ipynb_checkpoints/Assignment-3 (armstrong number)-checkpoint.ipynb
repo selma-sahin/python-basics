{
 "cells": [
  {
   "cell_type": "code",
   "execution_count": 1,
   "metadata": {},
   "outputs": [
    {
     "name": "stdout",
     "output_type": "stream",
     "text": [
      "Enter a number: 5\n",
      "5 is an Armstrong number\n"
     ]
    }
   ],
   "source": [
    "num = input(\"Enter a number: \")\n",
    "total = 0\n",
    "\n",
    "if num.isdigit():\n",
    "    \n",
    "    temp = int(num)\n",
    "    n = len(num)\n",
    "    while temp > 0:\n",
    "        digit = temp % 10\n",
    "        total += digit ** n\n",
    "        temp //= 10\n",
    "\n",
    "    if int(num) == total:\n",
    "        print(num,\"is an Armstrong number\")\n",
    "    else:\n",
    "        print(num,\"is not an Armstrong number\")\n",
    "else:\n",
    "    print(\"It is an invalid entry. Don't use non-numeric, \\\n",
    "float, or negative values!\")\n"
   ]
  },
  {
   "cell_type": "code",
   "execution_count": null,
   "metadata": {},
   "outputs": [],
   "source": []
  }
 ],
 "metadata": {
  "kernelspec": {
   "display_name": "Python 3",
   "language": "python",
   "name": "python3"
  },
  "language_info": {
   "codemirror_mode": {
    "name": "ipython",
    "version": 3
   },
   "file_extension": ".py",
   "mimetype": "text/x-python",
   "name": "python",
   "nbconvert_exporter": "python",
   "pygments_lexer": "ipython3",
   "version": "3.7.6"
  }
 },
 "nbformat": 4,
 "nbformat_minor": 4
}
