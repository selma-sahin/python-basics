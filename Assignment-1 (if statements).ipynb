{
 "cells": [
  {
   "cell_type": "code",
   "execution_count": 2,
   "metadata": {},
   "outputs": [
    {
     "name": "stdout",
     "output_type": "stream",
     "text": [
      "Please enter your name to learn your password: ahmet\n",
      "Hello Ahmet! See you later\n"
     ]
    }
   ],
   "source": [
    "name = \"Selma\"\n",
    "given_name = input(\"Please enter your name to learn your password: \")\n",
    "if given_name.title() == name :\n",
    "    print(\"Hello, Selma! Your password is : W@12\")\n",
    "else :\n",
    "    print(f\"Hello {given_name.title()}! See you later\")"
   ]
  },
  {
   "cell_type": "code",
   "execution_count": null,
   "metadata": {},
   "outputs": [],
   "source": []
  }
 ],
 "metadata": {
  "kernelspec": {
   "display_name": "Python 3",
   "language": "python",
   "name": "python3"
  },
  "language_info": {
   "codemirror_mode": {
    "name": "ipython",
    "version": 3
   },
   "file_extension": ".py",
   "mimetype": "text/x-python",
   "name": "python",
   "nbconvert_exporter": "python",
   "pygments_lexer": "ipython3",
   "version": "3.7.6"
  }
 },
 "nbformat": 4,
 "nbformat_minor": 4
}
